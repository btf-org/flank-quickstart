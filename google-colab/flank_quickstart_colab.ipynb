{
    "cells": [
        {
            "cell_type": "markdown",
            "id": "f0528309-86ae-4698-82b4-619b8d57f061",
            "metadata": {
                "id": "f0528309-86ae-4698-82b4-619b8d57f061"
            },
            "source": [
                "# Flank Quickstart on Google Colab\n",
                "\n",
                "Create an example API, serve it over the broader internet, and then create a webpage for interacting with it using Flank."
            ]
        },
        {
            "cell_type": "markdown",
            "id": "f17056bd-c97e-40ea-8a54-e9b5e769bc19",
            "metadata": {
                "id": "f17056bd-c97e-40ea-8a54-e9b5e769bc19"
            },
            "source": [
                "# **1A. Get an API running in this browser 🏃**\n",
                "\n",
                "---\n",
                "\n",
                "First, we're going to create a little API for creating and retrieving sales data. It's a simple example, but it's representative of what a company's internal systems might look like."
            ]
        },
        {
            "cell_type": "code",
            "execution_count": null,
            "id": "047efa64-ed95-431e-b773-61b50b8eb438",
            "metadata": {
                "id": "047efa64-ed95-431e-b773-61b50b8eb438"
            },
            "outputs": [],
            "source": [
                "%pip install -q fastapi uvicorn pyngrok # This could take a minute"
            ]
        },
        {
            "cell_type": "code",
            "execution_count": null,
            "id": "813854d8-57a3-4bc2-998a-81de3f6f5f1f",
            "metadata": {
                "id": "813854d8-57a3-4bc2-998a-81de3f6f5f1f"
            },
            "outputs": [],
            "source": [
                "import uvicorn\n",
                "import getpass\n",
                "import json\n",
                "import requests\n",
                "from fastapi import FastAPI, Query\n",
                "from typing import Optional\n",
                "import datetime\n",
                "\n",
                "server_instance = None\n",
                "\n",
                "app = FastAPI()\n",
                "\n",
                "# Dummy sales data\n",
                "sales_data = [\n",
                "    {\"id\": 1, \"date\": \"2023-01-01\", \"amount\": 100.0, \"customer_name\": \"ABC Corp\"},\n",
                "    {\"id\": 2, \"date\": \"2023-01-02\", \"amount\": 150.0, \"customer_name\": \"XYZ Inc\"},\n",
                "    {\n",
                "        \"id\": 3,\n",
                "        \"date\": \"2023-01-03\",\n",
                "        \"amount\": 200.0,\n",
                "        \"customer_name\": \"LMN Enterprises\",\n",
                "    },\n",
                "    {\"id\": 4, \"date\": \"2023-01-04\", \"amount\": 120.0, \"customer_name\": \"PQR Limited\"},\n",
                "    {\n",
                "        \"id\": 5,\n",
                "        \"date\": \"2023-01-05\",\n",
                "        \"amount\": 180.0,\n",
                "        \"customer_name\": \"EFG Corporation\",\n",
                "    },\n",
                "]\n",
                "\n",
                "\n",
                "# Get a specific sale\n",
                "@app.get(\"/api/sales/{id}\")\n",
                "async def get_sale(id: int) -> dict:\n",
                "    for sale in sales_data:\n",
                "        if sale[\"id\"] == id:\n",
                "            return sale\n",
                "    return None\n",
                "\n",
                "\n",
                "# List of sales\n",
                "@app.get(\"/api/sales\")\n",
                "async def get_sales(\n",
                "    start_date: Optional[str] = None, end_date: Optional[str] = None\n",
                ") -> list:\n",
                "    filtered_sales = [\n",
                "        sale\n",
                "        for sale in sales_data\n",
                "        if (start_date is None or sale[\"date\"] >= start_date)\n",
                "        and (end_date is None or sale[\"date\"] <= end_date)\n",
                "    ]\n",
                "    return filtered_sales\n",
                "\n",
                "\n",
                "# Create a new sale\n",
                "@app.post(\"/api/sales\")\n",
                "async def add_sale(date: str, amount: float, customer_name: str) -> dict:\n",
                "    sale = {\n",
                "        \"id\": max([d[\"id\"] for d in sales_data]) + 1,\n",
                "        \"date\": date,\n",
                "        \"amount\": amount,\n",
                "        \"customer_name\": customer_name,\n",
                "    }\n",
                "    sales_data.append(sale)\n",
                "    return sale\n",
                "\n",
                "\n",
                "# Run this API locally on port 8050\n",
                "def run_server():\n",
                "    global server_instance\n",
                "    config = uvicorn.Config(app=app, host=\"0.0.0.0\", port=8050)\n",
                "    server_instance = uvicorn.Server(config)\n",
                "    server_instance.run()\n",
                "\n",
                "\n",
                "def stop_server():\n",
                "    if server_instance is not None:\n",
                "        server_instance.should_exit = True\n",
                "        server_instance.force_exit = True\n",
                "        print(\"Server is shutting down...\")\n",
                "    else:\n",
                "        print(\"Server is not running.\")"
            ]
        },
        {
            "cell_type": "code",
            "execution_count": null,
            "id": "0Yu-CffsHkm0",
            "metadata": {
                "id": "0Yu-CffsHkm0"
            },
            "outputs": [],
            "source": [
                "import threading\n",
                "local_thread = threading.Thread(target=run_server)\n",
                "local_thread.start()"
            ]
        },
        {
            "cell_type": "markdown",
            "id": "695cac5c",
            "metadata": {},
            "source": [
                "# **1B. Check out your (in-browser) API ✅**\n",
                "\n",
                "---\n",
                "\n",
                "Run the following cell and go to the URL that it spits out *in this browser*. It won't work in a browser where you aren't logged into Google, or on someone else's computer."
            ]
        },
        {
            "cell_type": "code",
            "execution_count": null,
            "id": "NPqTOnHpQzhL",
            "metadata": {
                "id": "NPqTOnHpQzhL"
            },
            "outputs": [],
            "source": [
                "from google.colab.output import eval_js\n",
                "\n",
                "# See your endpoint running locally\n",
                "url = eval_js(\"google.colab.kernel.proxyPort(8050)\")\n",
                "print(f\"View one sale here: {url}api/sales/1\")\n",
                "print(f\"View list of sales here: {url}api/sales?start_date=2023-01-02\")"
            ]
        },
        {
            "cell_type": "markdown",
            "id": "1xZnSQG-vwlq",
            "metadata": {
                "id": "1xZnSQG-vwlq"
            },
            "source": [
                "# **🔍 Closer look at what just happened 🔍**\n",
                "\n",
                "---\n",
                "\n",
                "You just created a simple API so that we have something to work with. To clarify, the point of this quickstart is **not** to simply create an API -- it's to show how quickly Flank can integrate with existing APIs (that's coming soon).\n",
                "\n",
                "\n",
                "### Explanation of code:\n",
                "- An **API** is a collection of functions that can be called over the internet using HTTP, just like how you type a website URL into a browser. Typically, each URL path (\"/sales/{id}\" versus \"/sales\") corresponds to a different function.\n",
                "- **FastAPI** is an API framework. It provides a \"language\" within Python for writing APIs in a simple, straightfowrad way.\n",
                "- **uvicorn** is a server that listens for API requests. It forwards requests to whatever application it's running (the FastAPI `app` in this case)\n",
                "- `@app.get(\"/api/sales/{id}\")` is FastAPI code that says, in effect, *\"Create an endpoint around the following Python function (in this case, `get_sale`) and expose it on the URL path `/sales/{id}`\"*.\n",
                "- `threading` is a built-in Python module that creates new threads within a process. We run the API within a new thread because, if we don't, the API will run continuously on the main thread, which will block any Jupyter Notebook cells further down the page.\n",
                "- You might have noticed that there are two Python functions mapped to the same URL path -- \"/api/sales\". How does the API determine which Python function to call when it gets a request on that URL?\n",
                "  - Well, there are actually several types of HTTP requests. When you punch a URL into the browser that is a \"GET\" request.\n",
                "  - FastAPI configures a \"GET\" request like this: `@app.get()`.\n",
                "  - \"POST\" is another type of HTTP request, which explains how the server distinguises between requests on \"/api/sales\" -- `@app.post()`. "
            ]
        },
        {
            "cell_type": "markdown",
            "id": "096daf56-835f-4df4-8144-c45ad5ee32a8",
            "metadata": {
                "id": "096daf56-835f-4df4-8144-c45ad5ee32a8"
            },
            "source": [
                "# **2A. Expose that API over the public internet 🌎**\n",
                "\n",
                "---\n",
                "\n",
                "We're going to use a service called ngrok to take our local API and make it available over the public internet.\n",
                "\n",
                "### Todos:\n",
                "1. In a new tab, [log in or create a free ngrok account](https://dashboard.ngrok.com/get-started/your-authtoken). \n",
                "2. Copy the Authtoken at the top of screen here: [authtoken page](https://dashboard.ngrok.com/get-started/your-authtoken)\n",
                "3. Run the code below and paste it in when prompted"
            ]
        },
        {
            "cell_type": "code",
            "execution_count": null,
            "id": "I0sPD7f75RuK",
            "metadata": {
                "id": "I0sPD7f75RuK"
            },
            "outputs": [],
            "source": [
                "from pyngrok import ngrok, conf\n",
                "print(\"Paste in your ngrok authtoken that you copied in the step above, then hit enter:\")\n",
                "conf.get_default().auth_token = getpass.getpass()"
            ]
        },
        {
            "cell_type": "code",
            "execution_count": null,
            "id": "nWATV_3QU1p7",
            "metadata": {
                "id": "nWATV_3QU1p7"
            },
            "outputs": [],
            "source": [
                "ngrok_tunnel = ngrok.connect(8050)"
            ]
        },
        {
            "cell_type": "markdown",
            "id": "2c65a754-37f1-49c9-beb1-1c7ec52f949e",
            "metadata": {
                "id": "2c65a754-37f1-49c9-beb1-1c7ec52f949e"
            },
            "source": [
                "# **2B. Check out your public API! ✅**\n",
                "\n",
                "---\n",
                "\n",
                "Run the code below. Now, your API should be visible from *any* computer on the internet."
            ]
        },
        {
            "cell_type": "code",
            "execution_count": null,
            "id": "2810b5c9",
            "metadata": {},
            "outputs": [],
            "source": [
                "ngrok_url = ngrok_tunnel.public_url\n",
                "print('Endpoint exposed publicly at:', ngrok_url + \"/api/sales/1\")"
            ]
        },
        {
            "cell_type": "markdown",
            "id": "fbf17f79",
            "metadata": {},
            "source": [
                "# **🔍 Closer look at what just happened 🔍**\n",
                "\n",
                "---\n",
                "\n",
                "When you run a web server on your computer (or a Google Colab server), the service isn't necessarily visible to the broader internet, even though **you** can see the broader internet from your computer. `ngrok` is a developer tool that lets you expose local servers to the broader internet.\n",
                "\n",
                "### Explanation of code:\n",
                "- Even though they have a free tier, `ngrok` doesn't allow any anonymous person to use their service. To use `ngrok` you need to establish a connection that says \"I am this person\". That was the purpose of copying the Authtoken from the ngrok website and pasting it into this notebook.\n",
                "- `ngrok` creates a \"tunnel\" from your local computer (or the Colab server) to the public internet\n",
                "- You may be running multiple servers on your computer, and you may not wish to expose ALL of them to the broader internet. Thus the concept of \"ports\". Ports give you the ability to create lots of network connections and configure each of them separately.\n",
                "- In this case, we ran the API server on port 8050, thus `ngrok.connect(8050)` creates a tunnel to port 8050 on your server."
            ]
        },
        {
            "cell_type": "markdown",
            "id": "06abf6bf-7e45-457e-bd78-398150efda9f",
            "metadata": {
                "id": "06abf6bf-7e45-457e-bd78-398150efda9f"
            },
            "source": [
                "# **3A. Get a Flank API token 🪪**\n",
                "\n",
                "---\n",
                "\n",
                "### Todos\n",
                "\n",
                "1. Go to [this page in Flank](https://www.flank.cloud/copy-token?goStraightToAuth0) and an `auth_token` and `org_id` will get copied to your clipboard\n",
                "2. Paste below and run the cell"
            ]
        },
        {
            "cell_type": "code",
            "execution_count": null,
            "id": "pW9vUbmnHVan",
            "metadata": {
                "id": "pW9vUbmnHVan"
            },
            "outputs": [],
            "source": [
                "# Paste below to replace empty values\n",
                "auth_token = \"\"\n",
                "org_id = \"\""
            ]
        },
        {
            "cell_type": "markdown",
            "id": "B3YLo7Tvr6HR",
            "metadata": {
                "id": "B3YLo7Tvr6HR"
            },
            "source": [
                "# **3B. Create Flank Apps 🪄**\n",
                "\n",
                "---\n",
                "\n",
                "Now we're going to create \"apps\" in Flank for each of the endpoints. It should only take about 10 seconds."
            ]
        },
        {
            "cell_type": "code",
            "execution_count": null,
            "id": "rt_9grDkuVUa",
            "metadata": {
                "id": "rt_9grDkuVUa"
            },
            "outputs": [],
            "source": [
                "flank_api_url = f\"https://api.flank.cloud/v1/{org_id}\"\n",
                "docs_endpoint = f\"{ngrok_url}/openapi.json\"\n",
                "headers = {\"Authorization\": f\"Bearer {auth_token}\"}\n",
                "\n",
                "resources_payload = {\n",
                "    \"name\": \"Sales API\",\n",
                "    \"description\": \"\",\n",
                "    \"creator_org_id\": org_id,\n",
                "    \"resource_type\": \"api\",\n",
                "    \"is_public\": True,\n",
                "    \"api\": {\"api_spec_url\": docs_endpoint, \"image_url\": \"\", \"api_auth_schema\": \"\"},\n",
                "    \"db\": None,\n",
                "}\n",
                "\n",
                "add_resources_resp = requests.post(\n",
                "    url=f\"{flank_api_url}/resources\",\n",
                "    headers=headers,\n",
                "    data=json.dumps(resources_payload),\n",
                ")\n",
                "add_resources_resp = add_resources_resp.json()\n",
                "resource_id = add_resources_resp[\"resource_id\"]\n",
                "\n",
                "creds_payload = {\n",
                "    \"org_id\": org_id,\n",
                "    \"cred_type\": \"api\",\n",
                "    \"name\": \"Sales API\",\n",
                "    \"syncs\": True,\n",
                "    \"runs\": True,\n",
                "    \"stores\": False,\n",
                "    \"creds_db\": None,\n",
                "    \"creds_aws\": None,\n",
                "    \"creds_az\": None,\n",
                "    \"creds_api\": {\n",
                "        \"custom_headers\": \"\",\n",
                "        \"auth_type\": None,\n",
                "        \"api_spec_url\": docs_endpoint,\n",
                "        \"client_key\": \"\",\n",
                "        \"client_secret\": \"\",\n",
                "        \"bearer_token\": \"\",\n",
                "        \"api_key\": None,\n",
                "        \"username\": None,\n",
                "        \"password\": None,\n",
                "    },\n",
                "    \"resource_id\": resource_id,\n",
                "}\n",
                "creds_endpoint_resp = requests.post(\n",
                "    url=f\"{flank_api_url}/creds\", headers=headers, data=json.dumps(creds_payload)\n",
                ")\n",
                "creds_endpoint_resp = creds_endpoint_resp.json()\n",
                "\n",
                "creds_id = creds_endpoint_resp[\"creds_id\"]\n",
                "sync_resource_resp = requests.get(\n",
                "    url=f\"{flank_api_url}/creds/{creds_id}/diff\", headers=headers\n",
                ")\n",
                "sync_resource_resp = sync_resource_resp.json()\n",
                "\n",
                "kit_ids = []\n",
                "\n",
                "for endpoint in sync_resource_resp:\n",
                "    sync_endpoint_payload = {\"cloud_id\": endpoint[\"cloud_id\"], \"creds_id\": creds_id}\n",
                "    sync_endpoint_resp = requests.post(\n",
                "        url=f\"{flank_api_url}/syncs/cloud_id\",\n",
                "        headers=headers,\n",
                "        data=json.dumps(sync_endpoint_payload),\n",
                "    )\n",
                "    sync_endpoint_resp = sync_endpoint_resp.json()\n",
                "\n",
                "    kit_id = sync_endpoint_resp[\"stage2\"][\"kit_id\"]\n",
                "    kit_ids.append(kit_id)"
            ]
        },
        {
            "cell_type": "markdown",
            "id": "C_9DwjySgN-P",
            "metadata": {
                "id": "C_9DwjySgN-P"
            },
            "source": [
                "# **3C. Check out your Flank app ✅**\n",
                "\n",
                "---\n",
                "\n",
                "Now you have shareable, runnable apps in Flank, that connect to the API you created!"
            ]
        },
        {
            "cell_type": "code",
            "execution_count": null,
            "id": "vhDHeegqwJut",
            "metadata": {
                "id": "vhDHeegqwJut"
            },
            "outputs": [],
            "source": [
                "for kit_id in kit_ids:\n",
                "    print(\n",
                "        f\"Check out your Flank UI at https://www.flank.cloud/{org_id}/builder?id={kit_id}\"\n",
                "    )"
            ]
        },
        {
            "cell_type": "markdown",
            "id": "ca3d3cd7-5277-410a-9912-9b62fa8d2897",
            "metadata": {
                "id": "ca3d3cd7-5277-410a-9912-9b62fa8d2897"
            },
            "source": [
                "# **🔍 Closer look at what just happened 🔍**\n",
                "\n",
                "---\n",
                "\n",
                "First you created an API. Then you exposed that API to the broader internet using ngrok. Then, you pointed Flank at that API and Flank automatically created web pages for each endpoint.\n",
                "\n",
                "Under the hood, Flank used an OpenAPI spec, which is created by FastAPI. "
            ]
        },
        {
            "cell_type": "markdown",
            "id": "adb486d5",
            "metadata": {},
            "source": [
                "# **Where to go from here 🚏**\n",
                "\n",
                "---\n",
                "\n",
                "- **Tweak the code and see the changes take effect.** You can run `stop_server` (see below) and then re-run the code in section 1A.\n",
                "- **Host an API permanently.** This API will die when you shut down this notebook.\n",
                "- **Stitch endpoints together to create more functionality.** For example, a dropdown that ensures that someone doens't fat-finger the `sales_id`. Or a table of sales, where someone can take actions on each row.\n",
                "- **Share this with the world.** In Flank, Share > Store / Public\n",
                "- **Share this internally with a teammate.** In Flank, Share > This Org"
            ]
        },
        {
            "cell_type": "code",
            "execution_count": null,
            "id": "VGhBW1V4oKbe",
            "metadata": {
                "id": "VGhBW1V4oKbe"
            },
            "outputs": [],
            "source": [
                "# If you need to shut down your local server (optional)\n",
                "stop_server()"
            ]
        }
    ],
    "metadata": {
        "colab": {
            "provenance": []
        },
        "kernelspec": {
            "display_name": "Python 3 (ipykernel)",
            "language": "python",
            "name": "python3"
        },
        "language_info": {
            "codemirror_mode": {
                "name": "ipython",
                "version": 3
            },
            "file_extension": ".py",
            "mimetype": "text/x-python",
            "name": "python",
            "nbconvert_exporter": "python",
            "pygments_lexer": "ipython3",
            "version": "3.9.7"
        }
    },
    "nbformat": 4,
    "nbformat_minor": 5
}
