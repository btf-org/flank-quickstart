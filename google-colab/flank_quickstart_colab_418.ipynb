{
  "cells": [
    {
      "cell_type": "markdown",
      "id": "f0528309-86ae-4698-82b4-619b8d57f061",
      "metadata": {
        "id": "f0528309-86ae-4698-82b4-619b8d57f061"
      },
      "source": [
        "# Flank Quickstart on Google Colab\n",
        "## Run through this notebook to quickly set up an API endpoint and expose it on Flank"
      ]
    },
    {
      "cell_type": "markdown",
      "id": "f17056bd-c97e-40ea-8a54-e9b5e769bc19",
      "metadata": {
        "id": "f17056bd-c97e-40ea-8a54-e9b5e769bc19"
      },
      "source": [
        "## 1. Get API running in this browser\n",
        "\n",
        "---\n",
        "\n",
        "\n",
        "\n",
        "\n"
      ]
    },
    {
      "cell_type": "code",
      "execution_count": null,
      "id": "047efa64-ed95-431e-b773-61b50b8eb438",
      "metadata": {
        "id": "047efa64-ed95-431e-b773-61b50b8eb438"
      },
      "outputs": [],
      "source": [
        "%pip install -q fastapi uvicorn pyngrok # This could take a minute"
      ]
    },
    {
      "cell_type": "code",
      "execution_count": null,
      "id": "813854d8-57a3-4bc2-998a-81de3f6f5f1f",
      "metadata": {
        "id": "813854d8-57a3-4bc2-998a-81de3f6f5f1f"
      },
      "outputs": [],
      "source": [
        "import nest_asyncio\n",
        "import uvicorn\n",
        "import getpass\n",
        "import threading\n",
        "import json\n",
        "import requests\n",
        "from fastapi import FastAPI, Query\n",
        "from typing import Optional\n",
        "from pyngrok import ngrok, conf\n",
        "from google.colab.output import eval_js\n",
        "server_instance = None\n",
        "\n",
        "app = FastAPI()\n",
        "\n",
        "# Dummy sales data\n",
        "sales_data = [\n",
        "    {\"id\": 1, \"date\": \"2023-01-01\", \"amount\": 100.0, \"customer_name\": \"ABC Corp\"},\n",
        "    {\"id\": 2, \"date\": \"2023-01-02\", \"amount\": 150.0, \"customer_name\": \"XYZ Inc\"},\n",
        "    {\"id\": 3, \"date\": \"2023-01-03\", \"amount\": 200.0, \"customer_name\": \"LMN Enterprises\"},\n",
        "    {\"id\": 4, \"date\": \"2023-01-04\", \"amount\": 120.0, \"customer_name\": \"PQR Limited\"},\n",
        "    {\"id\": 5, \"date\": \"2023-01-05\", \"amount\": 180.0, \"customer_name\": \"EFG Corporation\"},\n",
        "]\n",
        "\n",
        "# Endpoint to get a specific sale\n",
        "@app.get(\"/api/reports/sales\")\n",
        "async def generate_sales_report(\n",
        "    sale_id: int = Query(..., description=\"Sale ID to filter the sales report\")\n",
        ") -> list:\n",
        "    for sale in sales_data:\n",
        "        if sale[\"id\"] == sale_id:\n",
        "            return [sale]\n",
        "    return []\n",
        "\n",
        "# Endpoint to get sale ids\n",
        "@app.get(\"/api/reports/sale_ids\")\n",
        "async def generate_sales_report() -> list:\n",
        "    return [{\"id\": sale[\"id\"], \"Customer Name\": sale[\"customer_name\"]} for sale in sales_data]\n",
        "\n",
        "\n",
        "# Endpoint to post a new sale\n",
        "@app.post(\"/api/sales\")\n",
        "async def add_sale(id: int, date: str, amount: float, customer_name: str) -> dict:\n",
        "    sale = {\"id\": id, \"date\": date, \"amount\": amount, \"customer_name\": customer_name}\n",
        "    sales_data.append(sale)\n",
        "    return sale\n",
        "\n",
        "# Run this API locally on port 8050\n",
        "def run_server():\n",
        "    global server_instance\n",
        "    config = uvicorn.Config(app=app, host=\"0.0.0.0\", port=8050)\n",
        "    server_instance = uvicorn.Server(config)\n",
        "    server_instance.run()\n",
        "\n",
        "def stop_server():\n",
        "    if server_instance is not None:\n",
        "        server_instance.should_exit = True\n",
        "        server_instance.force_exit = True\n",
        "        print(\"Server is shutting down...\")\n",
        "    else:\n",
        "        print(\"Server is not running.\")"
      ]
    },
    {
      "cell_type": "code",
      "source": [
        "local_thread = threading.Thread(target=run_server)\n",
        "local_thread.start()"
      ],
      "metadata": {
        "id": "0Yu-CffsHkm0"
      },
      "id": "0Yu-CffsHkm0",
      "execution_count": null,
      "outputs": []
    },
    {
      "cell_type": "markdown",
      "id": "1xZnSQG-vwlq",
      "metadata": {
        "id": "1xZnSQG-vwlq"
      },
      "source": [
        "### What happened here??\n",
        "\n",
        "**fastapi** is an API framework. **uvicorn** is a server that listens for API requests. We just created some simple \"endpoints\" around the `sales_data` that exposes that code over HTTP."
      ]
    },
    {
      "cell_type": "code",
      "source": [
        "# See your endpoint running locally\n",
        "url = eval_js(\"google.colab.kernel.proxyPort(8050)\")\n",
        "print(f\"Sales report endpoint running locally at {url}api/reports/sales?sale_id=1\")"
      ],
      "metadata": {
        "id": "NPqTOnHpQzhL"
      },
      "id": "NPqTOnHpQzhL",
      "execution_count": null,
      "outputs": []
    },
    {
      "cell_type": "markdown",
      "id": "096daf56-835f-4df4-8144-c45ad5ee32a8",
      "metadata": {
        "id": "096daf56-835f-4df4-8144-c45ad5ee32a8"
      },
      "source": [
        "## 2. Expose that API over the public internet\n",
        "\n",
        "We're going to use a service called ngrok to take our local API and make it available over the public internet.\n",
        "\n",
        "**ngrok**: In a new tab, [log in or create a free ngrok account](https://dashboard.ngrok.com/get-started/your-authtoken). Once you've logged in, navigate to the [authtoken page](https://dashboard.ngrok.com/get-started/your-authtoken) if you aren't already there. Copy the Authtoken at the top of the screen, and then navigate back here to the notebook.\n",
        "\n",
        "Next, you'll be prompted to paste in that authtoken here."
      ]
    },
    {
      "cell_type": "code",
      "execution_count": null,
      "id": "I0sPD7f75RuK",
      "metadata": {
        "id": "I0sPD7f75RuK"
      },
      "outputs": [],
      "source": [
        "print(\"Paste in your ngrok authtoken that you copied in the step above, then hit enter:\")\n",
        "conf.get_default().auth_token = getpass.getpass()"
      ]
    },
    {
      "cell_type": "code",
      "source": [
        "ngrok_tunnel = ngrok.connect(8050)\n",
        "ngrok_url = ngrok_tunnel.public_url\n",
        "docs_endpoint = f\"{ngrok_url}/openapi.json\"\n",
        "print('Endpoint exposed publicly at:', ngrok_url + \"/api/reports/sales?sale_id=1\")\n",
        "print('Schema that Flank will read:', ngrok_url + \"/openapi.json\")"
      ],
      "metadata": {
        "id": "nWATV_3QU1p7"
      },
      "id": "nWATV_3QU1p7",
      "execution_count": null,
      "outputs": []
    },
    {
      "cell_type": "markdown",
      "id": "2c65a754-37f1-49c9-beb1-1c7ec52f949e",
      "metadata": {
        "id": "2c65a754-37f1-49c9-beb1-1c7ec52f949e"
      },
      "source": [
        "### Now your API is available publicly!"
      ]
    },
    {
      "cell_type": "markdown",
      "id": "06abf6bf-7e45-457e-bd78-398150efda9f",
      "metadata": {
        "id": "06abf6bf-7e45-457e-bd78-398150efda9f"
      },
      "source": [
        "## 3. Get a Flank API token\n",
        "\n",
        "[Navigate to Flank](https://www.flank.cloud/copy-token) and create an account.\n",
        "\n",
        "A token and org id will be copied to your clipboard. As soon as you've been notified that's done, navigate back here to the notebook. Paste your token and your org id into the cell below."
      ]
    },
    {
      "cell_type": "code",
      "execution_count": null,
      "id": "pW9vUbmnHVan",
      "metadata": {
        "id": "pW9vUbmnHVan"
      },
      "outputs": [],
      "source": [
        "# Paste here!\n",
        "# auth_token =\n",
        "# org_id ="
      ]
    },
    {
      "cell_type": "markdown",
      "source": [
        "## 4. Get a Flank UI. Woohoo!"
      ],
      "metadata": {
        "id": "B3YLo7Tvr6HR"
      },
      "id": "B3YLo7Tvr6HR"
    },
    {
      "cell_type": "code",
      "source": [
        "flank_api_url = f\"https://api.flank.cloud/v1/{org_id}\"\n",
        "headers = {\"Authorization\": f\"Bearer {auth_token}\"}\n",
        "resources_payload = {\n",
        "    \"name\": \"Sales API\",\n",
        "    \"description\": \"\",\n",
        "    \"creator_org_id\": org_id,\n",
        "    \"resource_type\": \"api\",\n",
        "    \"is_public\": True,\n",
        "    \"api\": {\n",
        "        \"api_spec_url\": docs_endpoint,\n",
        "        \"image_url\": \"\",\n",
        "        \"api_auth_schema\": \"\"\n",
        "    },\n",
        "    \"db\": None\n",
        "}\n",
        "\n",
        "add_resources_resp = requests.post(url=f\"{flank_api_url}/resources\", headers=headers, data=json.dumps(resources_payload))\n",
        "add_resources_resp = add_resources_resp.json()\n",
        "resource_id = add_resources_resp['resource_id']\n",
        "\n",
        "creds_payload = {\n",
        "    \"org_id\": org_id,\n",
        "    \"cred_type\": \"api\",\n",
        "    \"name\": \"Sales API\",\n",
        "    \"syncs\": True,\n",
        "    \"runs\": True,\n",
        "    \"stores\": False,\n",
        "    \"creds_db\": None,\n",
        "    \"creds_aws\": None,\n",
        "    \"creds_az\": None,\n",
        "    \"creds_api\": {\n",
        "        \"custom_headers\": \"\",\n",
        "        \"auth_type\": None,\n",
        "        \"api_spec_url\": docs_endpoint,\n",
        "        \"client_key\": \"\",\n",
        "        \"client_secret\": \"\",\n",
        "        \"bearer_token\": \"\",\n",
        "        \"api_key\": None,\n",
        "        \"username\": None,\n",
        "        \"password\": None\n",
        "    },\n",
        "    \"resource_id\": resource_id\n",
        "}\n",
        "creds_endpoint_resp = requests.post(url=f\"{flank_api_url}/creds\", headers=headers, data=json.dumps(creds_payload))\n",
        "creds_endpoint_resp = creds_endpoint_resp.json()\n",
        "\n",
        "creds_id = creds_endpoint_resp['creds_id']\n",
        "sync_resource_resp = requests.get(url=f\"{flank_api_url}/creds/{creds_id}/diff\", headers=headers)\n",
        "sync_resource_resp = sync_resource_resp.json()\n",
        "\n",
        "kit_ids = []\n",
        "\n",
        "for endpoint in sync_resource_resp:\n",
        "  sync_endpoint_payload = {\n",
        "      \"cloud_id\": endpoint['cloud_id'],\n",
        "      \"creds_id\": creds_id\n",
        "  }\n",
        "  sync_endpoint_resp = requests.post(url=f\"{flank_api_url}/syncs/cloud_id\", headers=headers, data=json.dumps(sync_endpoint_payload))\n",
        "  sync_endpoint_resp = sync_endpoint_resp.json()\n",
        "\n",
        "  kit_id = sync_endpoint_resp['stage2']['kit_id']\n",
        "  kit_ids.append(kit_id)\n",
        "\n",
        "  publish_endpoint_payload = {\"visibility\": \"store\"}\n",
        "  publish_endpoint_resp = requests.patch(url=f\"{flank_api_url}/skinny-kits/{kit_id}\", headers=headers, data=json.dumps(publish_endpoint_payload))\n",
        "  publish_endpoint_resp = publish_endpoint_resp.json()"
      ],
      "metadata": {
        "id": "rt_9grDkuVUa"
      },
      "id": "rt_9grDkuVUa",
      "execution_count": null,
      "outputs": []
    },
    {
      "cell_type": "markdown",
      "source": [
        "## Check it out! You've got UI for all of your endpoints."
      ],
      "metadata": {
        "id": "C_9DwjySgN-P"
      },
      "id": "C_9DwjySgN-P"
    },
    {
      "cell_type": "code",
      "source": [
        "for kit_id in kit_ids:\n",
        "  print(f'Check out your Flank UI at https://www.flank.cloud/store/builder?id={kit_id}')"
      ],
      "metadata": {
        "id": "vhDHeegqwJut"
      },
      "id": "vhDHeegqwJut",
      "execution_count": null,
      "outputs": []
    },
    {
      "cell_type": "markdown",
      "id": "ca3d3cd7-5277-410a-9912-9b62fa8d2897",
      "metadata": {
        "id": "ca3d3cd7-5277-410a-9912-9b62fa8d2897"
      },
      "source": [
        "## 5. Run and share on Flank. Woohoo!\n",
        "Now, you've got a dedicated page webpage on which you can run your endpoint (we call these endpoints \"commands\" in Flank).\n",
        "\n",
        "Try running your endpoint!\n",
        "\n",
        "And just like that, you've got an interface to get your sales report.\n",
        "\n",
        "Notice that Flank automatically found the parameters (`sale_id`). Flank will find parameters specified in API specs.\n",
        "\n",
        "If you want to further configure the command (make the name more user-friendly, add a note to it, hide/lock certain parameters), you can do so here.\n",
        "\n",
        "You can share your command with others and they can run your endpoint without you needing to build an interface for them.\n",
        "\n",
        "Note that your ngrok tunnel will shut down when you close this notebook. But you can put any piece of deployed code on Flank - a stored procedure, a cloud function, a deployed API.\n",
        "\n",
        "### What will you Flank?"
      ]
    },
    {
      "cell_type": "code",
      "source": [
        "# If you need to shut down your local server (optional)\n",
        "stop_server()"
      ],
      "metadata": {
        "id": "VGhBW1V4oKbe"
      },
      "id": "VGhBW1V4oKbe",
      "execution_count": null,
      "outputs": []
    }
  ],
  "metadata": {
    "colab": {
      "provenance": []
    },
    "kernelspec": {
      "display_name": "Python 3 (ipykernel)",
      "language": "python",
      "name": "python3"
    },
    "language_info": {
      "codemirror_mode": {
        "name": "ipython",
        "version": 3
      },
      "file_extension": ".py",
      "mimetype": "text/x-python",
      "name": "python",
      "nbconvert_exporter": "python",
      "pygments_lexer": "ipython3",
      "version": "3.10.9"
    }
  },
  "nbformat": 4,
  "nbformat_minor": 5
}