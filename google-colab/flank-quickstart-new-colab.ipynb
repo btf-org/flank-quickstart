{
 "cells": [
  {
   "cell_type": "markdown",
   "id": "f0528309-86ae-4698-82b4-619b8d57f061",
   "metadata": {},
   "source": [
    "# Flank Quickstart on Google Colab\n",
    "## Run through this notebook to quickly set up an API endpoint and expose it on Flank"
   ]
  },
  {
   "cell_type": "markdown",
   "id": "f17056bd-c97e-40ea-8a54-e9b5e769bc19",
   "metadata": {},
   "source": [
    "## 1. Install and import the required libraries\n",
    "\n",
    "Install the following libraries with `pip`:\n",
    "\n",
    "- **fastapi** for setting up your API framework\n",
    "- **uvicorn** for running your API\n",
    "- **ngrok** for exposing it to Flank\n",
    "- **webbrowser** for quickly navigating to your API\n",
    "  \n",
    "We'll also want to import **nest_asyncio** for running FastAPI within a notebook."
   ]
  },
  {
   "cell_type": "code",
   "execution_count": null,
   "id": "047efa64-ed95-431e-b773-61b50b8eb438",
   "metadata": {},
   "outputs": [],
   "source": [
    "%pip install -q fastapi pyngrok uvicorn"
   ]
  },
  {
   "cell_type": "code",
   "execution_count": null,
   "id": "f54b8b1e-7adb-4e03-a5cb-cd9f24c40b31",
   "metadata": {},
   "outputs": [],
   "source": [
    "import nest_asyncio\n",
    "import uvicorn\n",
    "import getpass\n",
    "import webbrowser\n",
    "from fastapi import FastAPI, Query\n",
    "from pyngrok import ngrok, conf"
   ]
  },
  {
   "cell_type": "markdown",
   "id": "4daca9fe-f933-4717-bcea-f002090dbd38",
   "metadata": {},
   "source": [
    "## 2. Set up ngrok\n",
    "**ngrok**: In a new tab, [log in or create a free ngrok account](https://dashboard.ngrok.com/tunnels/authtokens). Once you've logged in, navigate to the [authtoken page](https://dashboard.ngrok.com/get-started/your-authtoken) if you aren't already there. Copy the Authtoken at the top of the screen, and then navigate back here to the notebook.\n",
    "\n",
    "Next, you'll be prompted to paste in that authtoken here."
   ]
  },
  {
   "cell_type": "code",
   "execution_count": null,
   "id": "cf9be8b6-e66d-470f-b338-44dd35e4f00e",
   "metadata": {},
   "outputs": [],
   "source": [
    "print(\"Paste in your ngrok authtoken that you copied in the step above, then hit enter:\")\n",
    "conf.get_default().auth_token = getpass.getpass()"
   ]
  },
  {
   "cell_type": "markdown",
   "id": "8606deb5-c683-452e-9197-5a84736b77a9",
   "metadata": {},
   "source": [
    "## 3. Spin up an API locally. Woo!\n",
    "\n",
    "Next, set up your FastAPI endpoints. You can set up as many as you'd like, to do whatever you'd like, but here we'll set up an endpoint to generate a simple sales report.\n",
    "\n"
   ]
  },
  {
   "cell_type": "code",
   "execution_count": null,
   "id": "813854d8-57a3-4bc2-998a-81de3f6f5f1f",
   "metadata": {},
   "outputs": [],
   "source": [
    "app = FastAPI()\n",
    "\n",
    "# Dummy sales data\n",
    "sales_data = [\n",
    "    {\"id\": 1, \"date\": \"2023-01-01\", \"amount\": 100.0},\n",
    "    {\"id\": 2, \"date\": \"2023-01-02\", \"amount\": 150.0},\n",
    "    {\"id\": 3, \"date\": \"2023-01-03\", \"amount\": 200.0},\n",
    "    {\"id\": 4, \"date\": \"2023-01-04\", \"amount\": 120.0},\n",
    "    {\"id\": 5, \"date\": \"2023-01-05\", \"amount\": 180.0},\n",
    "]\n",
    "\n",
    "# Endpoint to generate sales report based on sale_id\n",
    "@app.get(\"/api/reports/sales\")\n",
    "async def generate_sales_report(\n",
    "    sale_id: int = Query(..., description=\"Sale ID to filter the sales report\")\n",
    ") -> dict:\n",
    "    for sale in sales_data:\n",
    "        if sale[\"id\"] == sale_id:\n",
    "            return sale\n",
    "    return {\"error\": \"Sale not found\"}"
   ]
  },
  {
   "cell_type": "markdown",
   "id": "096daf56-835f-4df4-8144-c45ad5ee32a8",
   "metadata": {},
   "source": [
    "## 4. Expose that API over the public internet. Hooray!\n",
    "Now we'll expose your endpoint to the web. You can choose any port on your localhost that's open. Here we'll run and expose the API on port 8010.\n",
    "We'll use `ngrok` to expose it, and `nest_asyncio` + `uvicorn` to run it. "
   ]
  },
  {
   "cell_type": "code",
   "execution_count": null,
   "id": "1e3caf1c-b3e0-4000-b330-dd89b928e01f",
   "metadata": {},
   "outputs": [],
   "source": [
    "ngrok_tunnel = ngrok.connect(8010)\n",
    "ngrok_url = ngrok_tunnel.public_url\n",
    "print('Your ngrok url is:', ngrok_url)\n",
    "nest_asyncio.apply()\n",
    "uvicorn.run(app, port=8010)"
   ]
  },
  {
   "cell_type": "markdown",
   "id": "2c65a754-37f1-49c9-beb1-1c7ec52f949e",
   "metadata": {},
   "source": [
    "Note the output of this line: `print('Public URL:', ngrok_tunnel.public_url)`. Your ngrok url should be something like `https://fafc-216-228-186-15.ngrok-free.app/`.\n",
    "\n",
    "Verify that your endpoint is up and running by going to it in your browser: `https://ngrok_url/api/reports/sales?sale_id=1`\n",
    "\n",
    "Click \"Visit Site\", then verify that you see output like\n",
    "```\n",
    "{\n",
    "  \"id\": 1,\n",
    "  \"date\": \"2023-01-01\",\n",
    "  \"amount\": 100.0\n",
    "}\n",
    "```"
   ]
  },
  {
   "cell_type": "code",
   "execution_count": null,
   "id": "41f4ba64-e14d-4da4-bbd0-dbbe78b7b858",
   "metadata": {},
   "outputs": [],
   "source": [
    "# TODO - figure out a way to get another kernel going for this webbrowser.open(f\"({ngrok_url}/api/reports/sales?sale_id=1\")"
   ]
  },
  {
   "cell_type": "markdown",
   "id": "91fad3f7-1e10-4832-94f9-4086729eba77",
   "metadata": {},
   "source": [
    "Since we're using FastAPI, we automatically have an OpenAPI spec generated for us at `your-ngrok-endpoint/openapi.json`.\n",
    "Verify you can see your docs by going to your ngrok `openapi.json` endpoint: `https://ngrok_url/openapi.json`."
   ]
  },
  {
   "cell_type": "code",
   "execution_count": null,
   "id": "e6ebe4c5-47ca-4d34-8187-c10f8cd350e1",
   "metadata": {},
   "outputs": [],
   "source": [
    "# TODO - webbrowser.open(f\"({ngrok_url}/openapi.json\")"
   ]
  },
  {
   "cell_type": "markdown",
   "id": "06abf6bf-7e45-457e-bd78-398150efda9f",
   "metadata": {
    "jp-MarkdownHeadingCollapsed": true
   },
   "source": [
    "## 5. Get a Flank API key. Woo! \n",
    "## WIP\n",
    "<!-- Navigate to [flank.cloud](flank.cloud) and log in.\n",
    "\n",
    "Go to **Create Resource** and choose **API**. Choose **Add your own API**. Paste in docs endpoint for the **API Specs URL**, and nickname the API whatever you'd like.\n",
    "\n",
    "Remember, your docs endpoint should be something like `https://fafc-216-228-186-15.ngrok-free.app/openapi.json`.\n",
    "\n",
    "Next, sync your endpoint. Syncing just means Flank automatically finds the endpoints in your API. You can pick and choose the ones you'd like to add. -->"
   ]
  },
  {
   "cell_type": "markdown",
   "id": "ca3d3cd7-5277-410a-9912-9b62fa8d2897",
   "metadata": {},
   "source": [
    "## 6. Publish to Flank. Yes!!\n",
    "Now, you've got a dedicated page webpage on which you can run your endpoint (we call these endpoints \"commands\" in Flank).\n",
    "\n",
    "Try running your endpoint!\n",
    "\n",
    "And just like that, you've got an interface to get your sales report.\n",
    "\n",
    "Notice that Flank automatically found the parameters (`sale_id`). Flank will find parameters specified in API specs.\n",
    "\n",
    "If you want to further configure the command (make the name more user-friendly, add a note to it, hide/lock certain parameters), you can do so here.\n",
    "\n",
    "You can share your command with others and they can run your endpoint without you needing to build an interface for them.\n",
    "\n",
    "Note that your ngrok tunnel will shut down when you close this notebook. But you can put any piece of deployed code on Flank - a stored procedure, a cloud function, a deployed API.\n",
    "\n",
    "### What will you Flank?"
   ]
  },
  {
   "cell_type": "code",
   "execution_count": null,
   "id": "4c65af81-8779-4f7a-98fe-49d19babc049",
   "metadata": {},
   "outputs": [],
   "source": []
  }
 ],
 "metadata": {
  "kernelspec": {
   "display_name": "Python 3 (ipykernel)",
   "language": "python",
   "name": "python3"
  },
  "language_info": {
   "codemirror_mode": {
    "name": "ipython",
    "version": 3
   },
   "file_extension": ".py",
   "mimetype": "text/x-python",
   "name": "python",
   "nbconvert_exporter": "python",
   "pygments_lexer": "ipython3",
   "version": "3.10.9"
  }
 },
 "nbformat": 4,
 "nbformat_minor": 5
}
