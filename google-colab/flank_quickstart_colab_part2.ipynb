{
  "nbformat": 4,
  "nbformat_minor": 0,
  "metadata": {
    "colab": {
      "provenance": []
    },
    "kernelspec": {
      "name": "python3",
      "display_name": "Python 3"
    },
    "language_info": {
      "name": "python"
    }
  },
  "cells": [
    {
      "cell_type": "markdown",
      "source": [
        "## 3. Add your endpoint to Flank\n",
        "\n",
        "[Navigate to Flank](flank.cloud/copy-token) and create an account.\n",
        "\n",
        "A token and org id will be copied to your clipboard. As soon as you've been notified that's done, navigate back here to the notebook. Paste your token and your org id into the cell below."
      ],
      "metadata": {
        "id": "KVFMbjDOIwy0"
      }
    },
    {
      "cell_type": "code",
      "execution_count": null,
      "metadata": {
        "id": "y6epy9-MMXSg"
      },
      "outputs": [],
      "source": [
        "# Paste here!\n"
      ]
    },
    {
      "cell_type": "code",
      "source": [
        "# This section will be redundant if we can combine notebooks\n",
        "import requests\n",
        "\n",
        "flank_api_url = f\"https://api.flank.cloud/v1/{org_id}\"\n",
        "docs_endpoint = \"\" # @ Angus - this was a variable from the first notebook that will need to be pasted in while there are 2 notebooks\n",
        "headers = {\"Authorization\": f\"Bearer {auth_token}\"}"
      ],
      "metadata": {
        "id": "IfXm1Q-WMeMj"
      },
      "execution_count": null,
      "outputs": []
    },
    {
      "cell_type": "code",
      "source": [
        "import json\n",
        "resources_payload = {\n",
        "    \"name\": \"Sales API\",\n",
        "    \"description\": \"\",\n",
        "    \"creator_org_id\": org_id,\n",
        "    \"resource_type\": \"api\",\n",
        "    \"is_public\": True,\n",
        "    \"api\": {\n",
        "        \"api_spec_url\": docs_endpoint,\n",
        "        \"image_url\": \"\",\n",
        "        \"api_auth_schema\": \"\"\n",
        "    },\n",
        "    \"db\": None\n",
        "}\n",
        "\n",
        "add_resources_resp = requests.post(url=f\"{flank_api_url}/resources\", headers=headers, data=json.dumps(resources_payload))\n",
        "add_resources_resp = add_resources_resp.json()\n",
        "add_resources_resp"
      ],
      "metadata": {
        "id": "jhUabhpLM9F2"
      },
      "execution_count": null,
      "outputs": []
    },
    {
      "cell_type": "code",
      "source": [
        "resource_id = add_resources_resp['resource_id']\n",
        "creds_payload = {\n",
        "    \"org_id\": org_id,\n",
        "    \"cred_type\": \"api\",\n",
        "    \"name\": \"Sales API\",\n",
        "    \"syncs\": True,\n",
        "    \"runs\": True,\n",
        "    \"stores\": False,\n",
        "    \"creds_db\": None,\n",
        "    \"creds_aws\": None,\n",
        "    \"creds_az\": None,\n",
        "    \"creds_api\": {\n",
        "        \"custom_headers\": \"\",\n",
        "        \"auth_type\": None,\n",
        "        \"api_spec_url\": docs_endpoint,\n",
        "        \"client_key\": \"\",\n",
        "        \"client_secret\": \"\",\n",
        "        \"bearer_token\": \"\",\n",
        "        \"api_key\": None,\n",
        "        \"username\": None,\n",
        "        \"password\": None\n",
        "    },\n",
        "    \"resource_id\": resource_id\n",
        "}\n",
        "creds_endpoint_resp = requests.post(url=f\"{flank_api_url}/creds\", headers=headers, data=json.dumps(creds_payload))\n",
        "creds_endpoint_resp = creds_endpoint_resp.json()\n",
        "creds_endpoint_resp"
      ],
      "metadata": {
        "id": "RVOE8vm_NRCe"
      },
      "execution_count": null,
      "outputs": []
    },
    {
      "cell_type": "code",
      "source": [
        "creds_id = creds_endpoint_resp['creds_id']\n",
        "sync_part1_resp = requests.get(url=f\"{flank_api_url}/creds/{creds_id}/diff\", headers=headers)\n",
        "sync_part1_resp = sync_part1_resp.json()\n",
        "sync_part1_resp"
      ],
      "metadata": {
        "id": "tgpRZDmgUB6W"
      },
      "execution_count": null,
      "outputs": []
    },
    {
      "cell_type": "code",
      "source": [
        "sync_endpoint_payload = {\n",
        "    \"cloud_id\": sync_part1_resp[0]['cloud_id'],\n",
        "    \"creds_id\": creds_id\n",
        "}\n",
        "sync_endpoint_resp = requests.post(url=f\"{flank_api_url}/syncs/cloud_id\", headers=headers, data=json.dumps(sync_endpoint_payload))\n",
        "sync_endpoint_resp = sync_endpoint_resp.json()\n",
        "sync_endpoint_resp"
      ],
      "metadata": {
        "id": "bzBRZGY1ZPY9"
      },
      "execution_count": null,
      "outputs": []
    },
    {
      "cell_type": "code",
      "source": [
        "kit_id = sync_endpoint_resp['stage2']['kit_id']\n",
        "\n",
        "publish_endpoint_payload = {\"visibility\": \"store\"}\n",
        "\n",
        "publish_endpoint_resp = requests.patch(url=f\"{flank_api_url}/skinny-kits/{kit_id}\", headers=headers, data=json.dumps(publish_endpoint_payload))\n",
        "\n",
        "publish_endpoint_resp = publish_endpoint_resp.json()\n",
        "publish_endpoint_resp"
      ],
      "metadata": {
        "id": "epBGMBR5jIWD"
      },
      "execution_count": null,
      "outputs": []
    },
    {
      "cell_type": "code",
      "source": [
        "kit_id"
      ],
      "metadata": {
        "colab": {
          "base_uri": "https://localhost:8080/"
        },
        "id": "jyz2gu4vj4G6",
        "outputId": "8e7a7e3b-6154-407e-87dc-b7c92c5d532d"
      },
      "execution_count": null,
      "outputs": [
        {
          "output_type": "execute_result",
          "data": {
            "text/plain": [
              "12834"
            ]
          },
          "metadata": {},
          "execution_count": 44
        }
      ]
    },
    {
      "cell_type": "code",
      "source": [],
      "metadata": {
        "id": "p-Kqodg3kEK9"
      },
      "execution_count": null,
      "outputs": []
    }
  ]
}